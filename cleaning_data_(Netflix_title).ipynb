{
  "nbformat": 4,
  "nbformat_minor": 0,
  "metadata": {
    "colab": {
      "name": "cleaning data (Netflix_title).ipynb",
      "provenance": [],
      "authorship_tag": "ABX9TyPNsiixJdemBQLwUYHqp67U",
      "include_colab_link": true
    },
    "kernelspec": {
      "name": "python3",
      "display_name": "Python 3"
    },
    "language_info": {
      "name": "python"
    }
  },
  "cells": [
    {
      "cell_type": "markdown",
      "metadata": {
        "id": "view-in-github",
        "colab_type": "text"
      },
      "source": [
        "<a href=\"https://colab.research.google.com/github/abasnezhad/Kaggle/blob/main/cleaning_data_(Netflix_title).ipynb\" target=\"_parent\"><img src=\"https://colab.research.google.com/assets/colab-badge.svg\" alt=\"Open In Colab\"/></a>"
      ]
    },
    {
      "cell_type": "code",
      "execution_count": 123,
      "metadata": {
        "id": "U8Mf_I-Hk6oA"
      },
      "outputs": [],
      "source": [
        "import numpy as np\n",
        "import pandas as pd\n",
        "import seaborn as sns\n",
        "from datetime import datetime"
      ]
    },
    {
      "cell_type": "code",
      "source": [
        "\n",
        "df = pd.read_csv('netflix_titles.csv')"
      ],
      "metadata": {
        "id": "9lNek7T8ltUA"
      },
      "execution_count": 101,
      "outputs": []
    },
    {
      "cell_type": "code",
      "source": [
        "df.sample(2)"
      ],
      "metadata": {
        "colab": {
          "base_uri": "https://localhost:8080/",
          "height": 350
        },
        "id": "Qmn0Vpm7mAK9",
        "outputId": "0a07ed04-34f4-4ee4-f269-4cbd857ecf1e"
      },
      "execution_count": 102,
      "outputs": [
        {
          "output_type": "execute_result",
          "data": {
            "text/plain": [
              "     show_id   type                    title                         director  \\\n",
              "4110   s4111  Movie     The Breaker Upperers  Jackie van Beek, Madeleine Sami   \n",
              "7631   s7632  Movie  Nymphomaniac: Volume II                   Lars von Trier   \n",
              "\n",
              "                                                   cast  \\\n",
              "4110  Madeleine Sami, Jackie van Beek, James Rollest...   \n",
              "7631  Charlotte Gainsbourg, Stellan Skarsgård, Stacy...   \n",
              "\n",
              "                                                country         date_added  \\\n",
              "4110                                        New Zealand  February 15, 2019   \n",
              "7631  Denmark, Germany, Belgium, United Kingdom, Fra...    August 25, 2018   \n",
              "\n",
              "      release_year rating duration  \\\n",
              "4110          2018  TV-MA   82 min   \n",
              "7631          2013  TV-MA  124 min   \n",
              "\n",
              "                                              listed_in  \\\n",
              "4110  Comedies, Independent Movies, International Mo...   \n",
              "7631   Dramas, Independent Movies, International Movies   \n",
              "\n",
              "                                            description  \n",
              "4110  For the right price, BFFs Jen and Mel will rut...  \n",
              "7631  The second half of Lars von Trier's epic follo...  "
            ],
            "text/html": [
              "\n",
              "  <div id=\"df-23c64f75-8246-4ca7-b782-1204b92e0228\">\n",
              "    <div class=\"colab-df-container\">\n",
              "      <div>\n",
              "<style scoped>\n",
              "    .dataframe tbody tr th:only-of-type {\n",
              "        vertical-align: middle;\n",
              "    }\n",
              "\n",
              "    .dataframe tbody tr th {\n",
              "        vertical-align: top;\n",
              "    }\n",
              "\n",
              "    .dataframe thead th {\n",
              "        text-align: right;\n",
              "    }\n",
              "</style>\n",
              "<table border=\"1\" class=\"dataframe\">\n",
              "  <thead>\n",
              "    <tr style=\"text-align: right;\">\n",
              "      <th></th>\n",
              "      <th>show_id</th>\n",
              "      <th>type</th>\n",
              "      <th>title</th>\n",
              "      <th>director</th>\n",
              "      <th>cast</th>\n",
              "      <th>country</th>\n",
              "      <th>date_added</th>\n",
              "      <th>release_year</th>\n",
              "      <th>rating</th>\n",
              "      <th>duration</th>\n",
              "      <th>listed_in</th>\n",
              "      <th>description</th>\n",
              "    </tr>\n",
              "  </thead>\n",
              "  <tbody>\n",
              "    <tr>\n",
              "      <th>4110</th>\n",
              "      <td>s4111</td>\n",
              "      <td>Movie</td>\n",
              "      <td>The Breaker Upperers</td>\n",
              "      <td>Jackie van Beek, Madeleine Sami</td>\n",
              "      <td>Madeleine Sami, Jackie van Beek, James Rollest...</td>\n",
              "      <td>New Zealand</td>\n",
              "      <td>February 15, 2019</td>\n",
              "      <td>2018</td>\n",
              "      <td>TV-MA</td>\n",
              "      <td>82 min</td>\n",
              "      <td>Comedies, Independent Movies, International Mo...</td>\n",
              "      <td>For the right price, BFFs Jen and Mel will rut...</td>\n",
              "    </tr>\n",
              "    <tr>\n",
              "      <th>7631</th>\n",
              "      <td>s7632</td>\n",
              "      <td>Movie</td>\n",
              "      <td>Nymphomaniac: Volume II</td>\n",
              "      <td>Lars von Trier</td>\n",
              "      <td>Charlotte Gainsbourg, Stellan Skarsgård, Stacy...</td>\n",
              "      <td>Denmark, Germany, Belgium, United Kingdom, Fra...</td>\n",
              "      <td>August 25, 2018</td>\n",
              "      <td>2013</td>\n",
              "      <td>TV-MA</td>\n",
              "      <td>124 min</td>\n",
              "      <td>Dramas, Independent Movies, International Movies</td>\n",
              "      <td>The second half of Lars von Trier's epic follo...</td>\n",
              "    </tr>\n",
              "  </tbody>\n",
              "</table>\n",
              "</div>\n",
              "      <button class=\"colab-df-convert\" onclick=\"convertToInteractive('df-23c64f75-8246-4ca7-b782-1204b92e0228')\"\n",
              "              title=\"Convert this dataframe to an interactive table.\"\n",
              "              style=\"display:none;\">\n",
              "        \n",
              "  <svg xmlns=\"http://www.w3.org/2000/svg\" height=\"24px\"viewBox=\"0 0 24 24\"\n",
              "       width=\"24px\">\n",
              "    <path d=\"M0 0h24v24H0V0z\" fill=\"none\"/>\n",
              "    <path d=\"M18.56 5.44l.94 2.06.94-2.06 2.06-.94-2.06-.94-.94-2.06-.94 2.06-2.06.94zm-11 1L8.5 8.5l.94-2.06 2.06-.94-2.06-.94L8.5 2.5l-.94 2.06-2.06.94zm10 10l.94 2.06.94-2.06 2.06-.94-2.06-.94-.94-2.06-.94 2.06-2.06.94z\"/><path d=\"M17.41 7.96l-1.37-1.37c-.4-.4-.92-.59-1.43-.59-.52 0-1.04.2-1.43.59L10.3 9.45l-7.72 7.72c-.78.78-.78 2.05 0 2.83L4 21.41c.39.39.9.59 1.41.59.51 0 1.02-.2 1.41-.59l7.78-7.78 2.81-2.81c.8-.78.8-2.07 0-2.86zM5.41 20L4 18.59l7.72-7.72 1.47 1.35L5.41 20z\"/>\n",
              "  </svg>\n",
              "      </button>\n",
              "      \n",
              "  <style>\n",
              "    .colab-df-container {\n",
              "      display:flex;\n",
              "      flex-wrap:wrap;\n",
              "      gap: 12px;\n",
              "    }\n",
              "\n",
              "    .colab-df-convert {\n",
              "      background-color: #E8F0FE;\n",
              "      border: none;\n",
              "      border-radius: 50%;\n",
              "      cursor: pointer;\n",
              "      display: none;\n",
              "      fill: #1967D2;\n",
              "      height: 32px;\n",
              "      padding: 0 0 0 0;\n",
              "      width: 32px;\n",
              "    }\n",
              "\n",
              "    .colab-df-convert:hover {\n",
              "      background-color: #E2EBFA;\n",
              "      box-shadow: 0px 1px 2px rgba(60, 64, 67, 0.3), 0px 1px 3px 1px rgba(60, 64, 67, 0.15);\n",
              "      fill: #174EA6;\n",
              "    }\n",
              "\n",
              "    [theme=dark] .colab-df-convert {\n",
              "      background-color: #3B4455;\n",
              "      fill: #D2E3FC;\n",
              "    }\n",
              "\n",
              "    [theme=dark] .colab-df-convert:hover {\n",
              "      background-color: #434B5C;\n",
              "      box-shadow: 0px 1px 3px 1px rgba(0, 0, 0, 0.15);\n",
              "      filter: drop-shadow(0px 1px 2px rgba(0, 0, 0, 0.3));\n",
              "      fill: #FFFFFF;\n",
              "    }\n",
              "  </style>\n",
              "\n",
              "      <script>\n",
              "        const buttonEl =\n",
              "          document.querySelector('#df-23c64f75-8246-4ca7-b782-1204b92e0228 button.colab-df-convert');\n",
              "        buttonEl.style.display =\n",
              "          google.colab.kernel.accessAllowed ? 'block' : 'none';\n",
              "\n",
              "        async function convertToInteractive(key) {\n",
              "          const element = document.querySelector('#df-23c64f75-8246-4ca7-b782-1204b92e0228');\n",
              "          const dataTable =\n",
              "            await google.colab.kernel.invokeFunction('convertToInteractive',\n",
              "                                                     [key], {});\n",
              "          if (!dataTable) return;\n",
              "\n",
              "          const docLinkHtml = 'Like what you see? Visit the ' +\n",
              "            '<a target=\"_blank\" href=https://colab.research.google.com/notebooks/data_table.ipynb>data table notebook</a>'\n",
              "            + ' to learn more about interactive tables.';\n",
              "          element.innerHTML = '';\n",
              "          dataTable['output_type'] = 'display_data';\n",
              "          await google.colab.output.renderOutput(dataTable, element);\n",
              "          const docLink = document.createElement('div');\n",
              "          docLink.innerHTML = docLinkHtml;\n",
              "          element.appendChild(docLink);\n",
              "        }\n",
              "      </script>\n",
              "    </div>\n",
              "  </div>\n",
              "  "
            ]
          },
          "metadata": {},
          "execution_count": 102
        }
      ]
    },
    {
      "cell_type": "code",
      "source": [
        "columns=list(df.columns)\n",
        "columns"
      ],
      "metadata": {
        "colab": {
          "base_uri": "https://localhost:8080/"
        },
        "id": "rpB0uJDOmCnq",
        "outputId": "b7784b4d-c985-4737-ab5c-1157a7207ee0"
      },
      "execution_count": 103,
      "outputs": [
        {
          "output_type": "execute_result",
          "data": {
            "text/plain": [
              "['show_id',\n",
              " 'type',\n",
              " 'title',\n",
              " 'director',\n",
              " 'cast',\n",
              " 'country',\n",
              " 'date_added',\n",
              " 'release_year',\n",
              " 'rating',\n",
              " 'duration',\n",
              " 'listed_in',\n",
              " 'description']"
            ]
          },
          "metadata": {},
          "execution_count": 103
        }
      ]
    },
    {
      "cell_type": "code",
      "source": [
        "print(\"shape: \", df.shape)"
      ],
      "metadata": {
        "colab": {
          "base_uri": "https://localhost:8080/"
        },
        "id": "A9kw2zxkmfwO",
        "outputId": "2eabf318-fc7c-47f8-fd32-f47e18ac3e35"
      },
      "execution_count": 104,
      "outputs": [
        {
          "output_type": "stream",
          "name": "stdout",
          "text": [
            "shape:  (8807, 12)\n"
          ]
        }
      ]
    },
    {
      "cell_type": "code",
      "source": [
        "df.info()"
      ],
      "metadata": {
        "colab": {
          "base_uri": "https://localhost:8080/"
        },
        "id": "dYOJhmFvmrU9",
        "outputId": "cfe51d72-4591-4e28-8cfe-46b864c8fd8f"
      },
      "execution_count": 105,
      "outputs": [
        {
          "output_type": "stream",
          "name": "stdout",
          "text": [
            "<class 'pandas.core.frame.DataFrame'>\n",
            "RangeIndex: 8807 entries, 0 to 8806\n",
            "Data columns (total 12 columns):\n",
            " #   Column        Non-Null Count  Dtype \n",
            "---  ------        --------------  ----- \n",
            " 0   show_id       8807 non-null   object\n",
            " 1   type          8807 non-null   object\n",
            " 2   title         8807 non-null   object\n",
            " 3   director      6173 non-null   object\n",
            " 4   cast          7982 non-null   object\n",
            " 5   country       7976 non-null   object\n",
            " 6   date_added    8797 non-null   object\n",
            " 7   release_year  8807 non-null   int64 \n",
            " 8   rating        8803 non-null   object\n",
            " 9   duration      8804 non-null   object\n",
            " 10  listed_in     8807 non-null   object\n",
            " 11  description   8807 non-null   object\n",
            "dtypes: int64(1), object(11)\n",
            "memory usage: 825.8+ KB\n"
          ]
        }
      ]
    },
    {
      "cell_type": "code",
      "source": [
        "def count_nulls(col) : \n",
        "    global df\n",
        "    if not df[col].isna().sum() == 0 : \n",
        "            print(f'Column {col} got {df[col].isna().sum()} nulls, Percentage : {round(100*df[col].isna().sum()/df.shape[0])} %')\n",
        "for i in columns:\n",
        "  count_nulls(i)"
      ],
      "metadata": {
        "colab": {
          "base_uri": "https://localhost:8080/"
        },
        "id": "cA-l5y0i1InE",
        "outputId": "daa0f292-8f53-4239-f874-e5f77d6825f0"
      },
      "execution_count": 106,
      "outputs": [
        {
          "output_type": "stream",
          "name": "stdout",
          "text": [
            "Column director got 2634 nulls, Percentage : 30 %\n",
            "Column cast got 825 nulls, Percentage : 9 %\n",
            "Column country got 831 nulls, Percentage : 9 %\n",
            "Column date_added got 10 nulls, Percentage : 0 %\n",
            "Column rating got 4 nulls, Percentage : 0 %\n",
            "Column duration got 3 nulls, Percentage : 0 %\n"
          ]
        }
      ]
    },
    {
      "cell_type": "code",
      "source": [
        "invalid_value = 9999\n",
        "df[\"country\"] = np.where((df[\"country\"] == invalid_value), \n",
        "                          np.nan, \n",
        "                          df[\"country\"])"
      ],
      "metadata": {
        "id": "GEjatawd34Qk"
      },
      "execution_count": 107,
      "outputs": []
    },
    {
      "cell_type": "code",
      "source": [
        "str_cols=list(df.columns)\n",
        "str_cols.remove('release_year')"
      ],
      "metadata": {
        "id": "Trp1rq2e0Uyt"
      },
      "execution_count": 110,
      "outputs": []
    },
    {
      "cell_type": "code",
      "source": [
        "# removing leading and trailing characters from columns with str type\n",
        "for i in str_cols:\n",
        "  df[i]=df[i].str.strip()"
      ],
      "metadata": {
        "id": "qHTnIQB00jPk"
      },
      "execution_count": 111,
      "outputs": []
    },
    {
      "cell_type": "code",
      "source": [
        "nan_cols=[\"director\", \"cast\", \"country\", \"date_added\", \"rating\", \"duration\"]\n",
        "\n",
        "for i in nan_cols:\n",
        "  df[i]=df[i].fillna(\"\")\n"
      ],
      "metadata": {
        "id": "8Vg_oYID3hsx"
      },
      "execution_count": 112,
      "outputs": []
    },
    {
      "cell_type": "code",
      "source": [
        ""
      ],
      "metadata": {
        "id": "jnJUVMHz-GWu"
      },
      "execution_count": null,
      "outputs": []
    },
    {
      "cell_type": "code",
      "source": [
        "# extracting months added and years added\n",
        "\n",
        "nan_rows=list(df[df.date_added==\"\"].index)\n",
        "\n",
        "month_added = []\n",
        "year_added = []\n",
        "\n",
        "for i in range(len(df)):\n",
        "\n",
        "  if i in nan_rows:\n",
        "    \n",
        "    month_added.append(0)\n",
        "    year_added.append(0)\n",
        "  else:\n",
        "    data=df['date_added'].iloc[i].split(\" \")\n",
        "    month_added.append(data[0])\n",
        "    year_added.append(int(data[2]))\n",
        "\n",
        "\n",
        "\n"
      ],
      "metadata": {
        "id": "SrqFt5oc4hS4"
      },
      "execution_count": 118,
      "outputs": []
    },
    {
      "cell_type": "code",
      "source": [
        "\n",
        "# turning month names into month numbers\n",
        "for i, month in enumerate(month_added):\n",
        "    if month != 0:\n",
        "        datetime_obj = datetime.strptime(month, \"%B\")\n",
        "        month_number = datetime_obj.month\n",
        "        month_added[i] = month_number\n",
        "\n"
      ],
      "metadata": {
        "id": "4AIYieTG9WjV"
      },
      "execution_count": 128,
      "outputs": []
    },
    {
      "cell_type": "code",
      "source": [
        "df.insert(7, \"month_added\", month_added, allow_duplicates = True)\n",
        "df.insert(8, \"year_added\", year_added, allow_duplicates = True)"
      ],
      "metadata": {
        "id": "HLORVK9sM7c3"
      },
      "execution_count": 129,
      "outputs": []
    },
    {
      "cell_type": "code",
      "source": [
        "\n",
        "show=df[df[\"type\"]=='TV Show']\n",
        "film= df[df[\"type\"]=='Movie']"
      ],
      "metadata": {
        "id": "rf5KWRea9Xf-"
      },
      "execution_count": 133,
      "outputs": []
    },
    {
      "cell_type": "code",
      "source": [
        "# reseting the index of the new datasets\n",
        "\n",
        "show=show.set_index([pd.Index(range(0,len(show)))])\n",
        "film=film.set_index([pd.Index(range(0,len(film)))])"
      ],
      "metadata": {
        "id": "R7gXGZjwNQ5e"
      },
      "execution_count": 140,
      "outputs": []
    },
    {
      "cell_type": "code",
      "source": [
        ""
      ],
      "metadata": {
        "id": "wk2Fc7uFPI8j"
      },
      "execution_count": null,
      "outputs": []
    }
  ]
}